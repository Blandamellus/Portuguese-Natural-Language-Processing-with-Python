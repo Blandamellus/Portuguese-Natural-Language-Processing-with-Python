{
 "cells": [
  {
   "cell_type": "markdown",
   "metadata": {},
   "source": [
    "# Python Libraries for NLP\n",
    "\n",
    "* chardet, unidecode\n",
    "* PyEnchant, hunspell\n",
    "* stemming\n",
    "* Soundex, Metaphone\n",
    "* Fuzzywuzzy, jellyfish\n",
    "* brasil.vocab, certografia\n",
    "* Whoosh, cwb-python, Pattern\n",
    "* NLTK, TextBlob, MontyLingua, spaCy, PyNLPl, polyglot\n",
    "* nlpnet, MBSP\n",
    "* gensim\n",
    "* sumy, textteaser, TextRank\n",
    "* MITIE, RAKE\n",
    "* scikit-learn, CRFsuite"
   ]
  },
  {
   "cell_type": "code",
   "execution_count": null,
   "metadata": {
    "collapsed": true
   },
   "outputs": [],
   "source": []
  }
 ],
 "metadata": {
  "kernelspec": {
   "display_name": "Python 2",
   "language": "python",
   "name": "python2"
  },
  "language_info": {
   "codemirror_mode": {
    "name": "ipython",
    "version": 2
   },
   "file_extension": ".py",
   "mimetype": "text/x-python",
   "name": "python",
   "nbconvert_exporter": "python",
   "pygments_lexer": "ipython2",
   "version": "2.7.6"
  }
 },
 "nbformat": 4,
 "nbformat_minor": 0
}
